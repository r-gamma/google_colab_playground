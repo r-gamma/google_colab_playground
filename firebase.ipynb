{
  "nbformat": 4,
  "nbformat_minor": 0,
  "metadata": {
    "colab": {
      "name": "firebase.ipynb",
      "provenance": [],
      "authorship_tag": "ABX9TyPqCSgPUy6eIDo/MtgqeZjO",
      "include_colab_link": true
    },
    "kernelspec": {
      "name": "python3",
      "display_name": "Python 3"
    },
    "language_info": {
      "name": "python"
    }
  },
  "cells": [
    {
      "cell_type": "markdown",
      "metadata": {
        "id": "view-in-github",
        "colab_type": "text"
      },
      "source": [
        "<a href=\"https://colab.research.google.com/github/r-gamma/shell_entertainer_on_colab/blob/main/firebase.ipynb\" target=\"_parent\"><img src=\"https://colab.research.google.com/assets/colab-badge.svg\" alt=\"Open In Colab\"/></a>"
      ]
    },
    {
      "cell_type": "code",
      "metadata": {
        "id": "WfbyQ2hDadKD"
      },
      "source": [
        "from google.colab import drive \n",
        "drive.mount('/content/drive')"
      ],
      "execution_count": null,
      "outputs": []
    },
    {
      "cell_type": "code",
      "metadata": {
        "id": "yZCfRC9faK7e"
      },
      "source": [
        "# pip install --upgrade firebase-admin  #  firebaseはインストール済み"
      ],
      "execution_count": null,
      "outputs": []
    },
    {
      "cell_type": "code",
      "metadata": {
        "id": "tFlAvYAqanGj"
      },
      "source": [
        "import pkg_resources\n",
        "for dist in pkg_resources.working_set:\n",
        "  print(dist.project_name, dist.version)"
      ],
      "execution_count": null,
      "outputs": []
    },
    {
      "cell_type": "code",
      "metadata": {
        "id": "YAggIvhfaZdf"
      },
      "source": [
        "import firebase_admin\n",
        "from firebase_admin import credentials\n",
        "from firebase_admin import firestore\n",
        "\n",
        "# Use a service account\n",
        "# cred = credentials.Certificate('path/to/serviceAccount.json')\n",
        "cred = credentials.Certificate('/content/drive/MyDrive/XXXXX.json')\n",
        "firebase_admin.initialize_app(cred)\n",
        "\n",
        "db = firestore.client()"
      ],
      "execution_count": 4,
      "outputs": []
    },
    {
      "cell_type": "code",
      "metadata": {
        "id": "GD9ryWHpb61D"
      },
      "source": [
        "doc_ref = db.collection(u'users').document('list')\n",
        "doc_ref.set({\n",
        "    u'first': u'tsukino',\n",
        "    u'last': u'mito',\n",
        "    u'born': 20180204\n",
        "})"
      ],
      "execution_count": null,
      "outputs": []
    },
    {
      "cell_type": "code",
      "metadata": {
        "id": "31e-S4XZb-wn"
      },
      "source": [
        "users_ref = db.collection(u'users')\n",
        "docs = users_ref.stream()\n",
        "\n",
        "for doc in docs:\n",
        "    print(f'{doc.id} => {doc.to_dict()}')"
      ],
      "execution_count": null,
      "outputs": []
    }
  ]
}