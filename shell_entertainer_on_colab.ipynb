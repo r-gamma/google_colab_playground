{
  "nbformat": 4,
  "nbformat_minor": 0,
  "metadata": {
    "colab": {
      "name": "shell_entertainer_on_colab.ipynb",
      "provenance": [],
      "authorship_tag": "ABX9TyOtilGIsYxhA5keKvc/m6lN",
      "include_colab_link": true
    },
    "kernelspec": {
      "name": "python3",
      "display_name": "Python 3"
    }
  },
  "cells": [
    {
      "cell_type": "markdown",
      "metadata": {
        "id": "view-in-github",
        "colab_type": "text"
      },
      "source": [
        "<a href=\"https://colab.research.google.com/github/r-gamma/shell_entertainer_on_colab/blob/main/shell_entertainer_on_colab.ipynb\" target=\"_parent\"><img src=\"https://colab.research.google.com/assets/colab-badge.svg\" alt=\"Open In Colab\"/></a>"
      ]
    },
    {
      "cell_type": "markdown",
      "metadata": {
        "id": "CWZj7cfyCk_Q"
      },
      "source": [
        "シェルを壊すのは怖いのでここでひたすらテストします。"
      ]
    },
    {
      "cell_type": "code",
      "metadata": {
        "id": "v4_4URXlBNpf"
      },
      "source": [
        "!echo $SHELL\n",
        "!printf \"%s\\n\"\n",
        "!echo \"########################\"\n",
        "!printf \"%s\\n\"\n",
        "!cat /etc/shells"
      ],
      "execution_count": null,
      "outputs": []
    },
    {
      "cell_type": "code",
      "metadata": {
        "id": "ostf4uZxAriS"
      },
      "source": [
        "%%bash\n",
        "for i in {1..10} ; do\n",
        "    echo ${i}\n",
        "done\n",
        "for i in `seq 11 20`; do\n",
        "    echo ${i}\n",
        "done"
      ],
      "execution_count": null,
      "outputs": []
    }
  ]
}