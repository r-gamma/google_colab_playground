{
  "nbformat": 4,
  "nbformat_minor": 0,
  "metadata": {
    "colab": {
      "name": "nodejs.ipynb",
      "provenance": [],
      "authorship_tag": "ABX9TyPErBQnaF9GTdYxIdL0Jq6k",
      "include_colab_link": true
    },
    "kernelspec": {
      "name": "python3",
      "display_name": "Python 3"
    },
    "language_info": {
      "name": "python"
    }
  },
  "cells": [
    {
      "cell_type": "markdown",
      "metadata": {
        "id": "view-in-github",
        "colab_type": "text"
      },
      "source": [
        "<a href=\"https://colab.research.google.com/github/r-gamma/google_colab_playground/blob/main/nodejs.ipynb\" target=\"_parent\"><img src=\"https://colab.research.google.com/assets/colab-badge.svg\" alt=\"Open In Colab\"/></a>"
      ]
    },
    {
      "cell_type": "code",
      "metadata": {
        "id": "aQOhKM8YqL3U"
      },
      "source": [
        "from google.colab import drive \n",
        "drive.mount('/content/drive')"
      ],
      "execution_count": null,
      "outputs": []
    },
    {
      "cell_type": "code",
      "metadata": {
        "id": "Pmz0KR6Ho6CG"
      },
      "source": [
        "%%bash\n",
        "node\n",
        "console.log('Hello, World')"
      ],
      "execution_count": null,
      "outputs": []
    },
    {
      "cell_type": "code",
      "metadata": {
        "id": "DhVqiIOWqgwA"
      },
      "source": [
        "%%bash\n",
        "npm -–version"
      ],
      "execution_count": null,
      "outputs": []
    },
    {
      "cell_type": "code",
      "metadata": {
        "id": "dbJEWyFzpvLp"
      },
      "source": [
        "%%bash\n",
        "P=\"/content/drive/MyDrive/node_test\"\n",
        "if [ ! -d $P ] ;then\n",
        "  mkdir $P\n",
        "fi\n",
        "cd $P\n",
        "# npm init. # initは対話形式のため使えない\n",
        "npm install my_package"
      ],
      "execution_count": null,
      "outputs": []
    },
    {
      "cell_type": "code",
      "metadata": {
        "id": "Ks64CM6jQZNT"
      },
      "source": [
        "%%bash\n",
        "npm ls -g"
      ],
      "execution_count": null,
      "outputs": []
    },
    {
      "cell_type": "code",
      "metadata": {
        "id": "7vFMX89CX605"
      },
      "source": [
        "# !wget https://bin.equinox.io/c/4VmDzA7iaHb/ngrok-stable-linux-amd64.zip\n",
        "# !unzip ngrok-stable-linux-amd64.zip\n",
        "\n",
        "get_ipython().system_raw('./ngrok http 6006 &')"
      ],
      "execution_count": 7,
      "outputs": []
    },
    {
      "cell_type": "code",
      "metadata": {
        "id": "dr21FgLaYkEN"
      },
      "source": [
        "! curl -s http://localhost:4040/api/tunnels | python3 -c \\\n",
        "    \"import sys, json; print(json.load(sys.stdin)['tunnels'][0]['public_url'])\""
      ],
      "execution_count": null,
      "outputs": []
    },
    {
      "cell_type": "code",
      "metadata": {
        "id": "RrfBOPYepDvp"
      },
      "source": [
        "%%bash\n",
        "node\n",
        "var http = require('http');\n",
        "var server = http.createServer(function(req, res) {\n",
        "  res.write(\"HELLO\\n\");\n",
        "  res.end();\n",
        "}).listen(6006);"
      ],
      "execution_count": null,
      "outputs": []
    }
  ]
}