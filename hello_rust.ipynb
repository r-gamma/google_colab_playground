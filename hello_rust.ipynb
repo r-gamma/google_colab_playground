{
  "nbformat": 4,
  "nbformat_minor": 0,
  "metadata": {
    "colab": {
      "name": "hello-rust.ipynb",
      "provenance": [],
      "collapsed_sections": [],
      "authorship_tag": "ABX9TyMLiW36/E3ben7HgZqXgsl/",
      "include_colab_link": true
    },
    "kernelspec": {
      "name": "python3",
      "display_name": "Python 3"
    },
    "language_info": {
      "name": "python"
    }
  },
  "cells": [
    {
      "cell_type": "markdown",
      "metadata": {
        "id": "view-in-github",
        "colab_type": "text"
      },
      "source": [
        "<a href=\"https://colab.research.google.com/github/r-gamma/shell_entertainer_on_colab/blob/main/hello_rust.ipynb\" target=\"_parent\"><img src=\"https://colab.research.google.com/assets/colab-badge.svg\" alt=\"Open In Colab\"/></a>"
      ]
    },
    {
      "cell_type": "code",
      "metadata": {
        "id": "TTskqxldYWhV"
      },
      "source": [
        "from google.colab import drive \n",
        "drive.mount('/content/drive')"
      ],
      "execution_count": null,
      "outputs": []
    },
    {
      "cell_type": "code",
      "metadata": {
        "id": "kdXb9l4ir_lG"
      },
      "source": [
        "!apt install rustc"
      ],
      "execution_count": null,
      "outputs": []
    },
    {
      "cell_type": "code",
      "metadata": {
        "id": "lSA-YPk0sHYj"
      },
      "source": [
        "!which rustc"
      ],
      "execution_count": null,
      "outputs": []
    },
    {
      "cell_type": "code",
      "metadata": {
        "id": "u0B_PhgFsKR1"
      },
      "source": [
        "%env USER=korakot  # USERをセットしないとプロジェクト作成時に怒られる"
      ],
      "execution_count": null,
      "outputs": []
    },
    {
      "cell_type": "code",
      "metadata": {
        "id": "nCcz8gGAsMu6"
      },
      "source": [
        "%%bash\n",
        "rustc --version"
      ],
      "execution_count": null,
      "outputs": []
    },
    {
      "cell_type": "code",
      "metadata": {
        "id": "LLSQwuy0sPnB"
      },
      "source": [
        "%%bash\n",
        "cargo new --bin hello-rust"
      ],
      "execution_count": null,
      "outputs": []
    },
    {
      "cell_type": "code",
      "metadata": {
        "id": "5v4O5dPDsVcc"
      },
      "source": [
        "%%bash\n",
        "cd hello-rust\n",
        "ls -al"
      ],
      "execution_count": null,
      "outputs": []
    },
    {
      "cell_type": "code",
      "metadata": {
        "id": "2Lgf8b2DX62E"
      },
      "source": [
        "%%bash\n",
        "cd hello-rust\n",
        "cargo run --release"
      ],
      "execution_count": null,
      "outputs": []
    }
  ]
}