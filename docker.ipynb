{
  "nbformat": 4,
  "nbformat_minor": 0,
  "metadata": {
    "colab": {
      "name": "docker.ipynb",
      "provenance": [],
      "authorship_tag": "ABX9TyNMGaKMC3N5qyP7YaH412it",
      "include_colab_link": true
    },
    "kernelspec": {
      "name": "python3",
      "display_name": "Python 3"
    },
    "language_info": {
      "name": "python"
    }
  },
  "cells": [
    {
      "cell_type": "markdown",
      "metadata": {
        "id": "view-in-github",
        "colab_type": "text"
      },
      "source": [
        "<a href=\"https://colab.research.google.com/github/r-gamma/google_colab_playground/blob/main/docker.ipynb\" target=\"_parent\"><img src=\"https://colab.research.google.com/assets/colab-badge.svg\" alt=\"Open In Colab\"/></a>"
      ]
    },
    {
      "cell_type": "code",
      "metadata": {
        "id": "Zodc7KFEi33a"
      },
      "source": [
        "!apt-get -qq install docker.io"
      ],
      "execution_count": null,
      "outputs": []
    },
    {
      "cell_type": "code",
      "metadata": {
        "id": "A8_cFrEKjCEk"
      },
      "source": [
        "%%bash\n",
        "docker --version\n",
        "# docker run hello-world --init"
      ],
      "execution_count": null,
      "outputs": []
    },
    {
      "cell_type": "code",
      "metadata": {
        "id": "8-sQ8WMDjC37"
      },
      "source": [
        "%%bash\n",
        "set -x\n",
        "dockerd -b none --iptables=0 -l warn &\n",
        "for i in $(seq 5); do [ ! -S \"/var/run/docker.sock\" ] && sleep 2 || break; done\n",
        "docker network ls\n",
        "docker images\n",
        "docker run ubuntu\n",
        "docker ps\n",
        "\n",
        "docker inspect --format='{{.State.Status}}' hello-world\n",
        "docker info\n",
        "docker pull hello-world\n",
        "\n",
        "docker build -t hello-world .\n",
        "docker inspect --format='{{json .State}}'　hello-world\n",
        "\n",
        "kill $(jobs -p)"
      ],
      "execution_count": null,
      "outputs": []
    },
    {
      "cell_type": "code",
      "metadata": {
        "id": "Kp0JdbCpCS78"
      },
      "source": [
        "# 以降ちょっとうまくいってない\n",
        "# https://stackoverflow.com/questions/60235353/docker-is-not-running-on-colab\n",
        "%%shell\n",
        "useradd -md /opt/docker docker\n",
        "apt-get -qq install iproute2 uidmap\n",
        "sudo -Hu docker SKIP_IPTABLES=1 bash < <(curl -fsSL https://get.docker.com/rootless)"
      ],
      "execution_count": null,
      "outputs": []
    },
    {
      "cell_type": "code",
      "metadata": {
        "id": "aj5UFE5UCgYf"
      },
      "source": [
        "%%writefile docker-run.sh\n",
        "#!/usr/bin/env bash\n",
        "set -e\n",
        "export DOCKER_SOCK=/opt/docker/.docker/run/docker.sock\n",
        "export DOCKER_HOST=unix://$DOCKER_SOCK\n",
        "export PATH=/opt/docker/bin:$PATH\n",
        "export XDG_RUNTIME_DIR=/opt/docker/.docker/run\n",
        "/opt/docker/bin/dockerd-rootless.sh --experimental --iptables=false --storage-driver vfs &\n",
        "for i in $(seq 5); do [ ! -S \"$DOCKER_SOCK\" ] && sleep 2 || break; done\n",
        "docker run $@\n",
        "jobs -p\n",
        "docker logs\n",
        "kill $(jobs -p)"
      ],
      "execution_count": null,
      "outputs": []
    },
    {
      "cell_type": "code",
      "metadata": {
        "id": "cvx9wkAECmL_"
      },
      "source": [
        "!sudo -Hu docker bash -x docker-run.sh hello-world"
      ],
      "execution_count": null,
      "outputs": []
    },
    {
      "cell_type": "code",
      "metadata": {
        "id": "-pPuc1wpG3ju"
      },
      "source": [
        "!mount -vt sysfs sysfs /sys -o rw,remount\n",
        "!mount -vt tmpfs tmpfs /sys/fs/cgroup -o rw,remount"
      ],
      "execution_count": null,
      "outputs": []
    },
    {
      "cell_type": "code",
      "metadata": {
        "id": "rVPMk_LVG7rH"
      },
      "source": [
        "%%writefile docker-run.sh\n",
        "#!/usr/bin/env bash\n",
        "set -e\n",
        "export DOCKER_SOCK=/opt/docker/.docker/run/docker.sock\n",
        "export DOCKER_HOST=unix://$DOCKER_SOCK\n",
        "export PATH=/opt/docker/bin:$PATH\n",
        "export XDG_RUNTIME_DIR=/opt/docker/.docker/run\n",
        "rootlesskit --debug --disable-host-loopback --copy-up=/etc --copy-up=/run /opt/docker/bin/dockerd -b none --experimental --iptables=false --storage-driver vfs &\n",
        "for i in $(seq 5); do [ ! -S \"$DOCKER_SOCK\" ] && sleep 2 || break; done\n",
        "docker $@\n",
        "jobs -p\n",
        "kill $(jobs -p)"
      ],
      "execution_count": null,
      "outputs": []
    },
    {
      "cell_type": "code",
      "metadata": {
        "id": "aCx8IkP0G-Vh"
      },
      "source": [
        "!sudo -Hu docker bash docker-run.sh run --cap-add SYS_ADMIN hello-world\n"
      ],
      "execution_count": null,
      "outputs": []
    }
  ]
}