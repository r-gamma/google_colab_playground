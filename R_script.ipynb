{
  "nbformat": 4,
  "nbformat_minor": 0,
  "metadata": {
    "colab": {
      "name": "R-script.ipynb",
      "provenance": [],
      "collapsed_sections": [],
      "authorship_tag": "ABX9TyP18QpG9hIE13p7/sS6Paeu",
      "include_colab_link": true
    },
    "kernelspec": {
      "name": "python3",
      "display_name": "Python 3"
    },
    "language_info": {
      "name": "python"
    }
  },
  "cells": [
    {
      "cell_type": "markdown",
      "metadata": {
        "id": "view-in-github",
        "colab_type": "text"
      },
      "source": [
        "<a href=\"https://colab.research.google.com/github/r-gamma/shell_entertainer_on_colab/blob/main/R_script.ipynb\" target=\"_parent\"><img src=\"https://colab.research.google.com/assets/colab-badge.svg\" alt=\"Open In Colab\"/></a>"
      ]
    },
    {
      "cell_type": "code",
      "metadata": {
        "id": "VMdXxaSEAiiJ"
      },
      "source": [
        "from google.colab import drive \n",
        "drive.mount('/content/drive')"
      ],
      "execution_count": null,
      "outputs": []
    },
    {
      "cell_type": "code",
      "metadata": {
        "id": "SFCOAv1vAYXP"
      },
      "source": [
        "%%bash\n",
        "Rscript -e \"print('Hello world')\""
      ],
      "execution_count": null,
      "outputs": []
    },
    {
      "cell_type": "code",
      "metadata": {
        "id": "dI-5WXreAXo_"
      },
      "source": [
        "%%bash\n",
        "Rscript -e \"summary(iris)\""
      ],
      "execution_count": null,
      "outputs": []
    },
    {
      "cell_type": "code",
      "metadata": {
        "id": "ip-9GyvcDRIv"
      },
      "source": [
        "%%bash\n",
        "cd /content/drive/MyDrive\n",
        "Rscript test.R  # スクリプトを読み込む"
      ],
      "execution_count": null,
      "outputs": []
    },
    {
      "cell_type": "code",
      "metadata": {
        "id": "Ss4caW17ATm1"
      },
      "source": [
        "%%bash\n",
        "# 何かインストールするとき\n",
        "# Rscript -e \"install.packages('ggplot2')\"　　#インストール済み"
      ],
      "execution_count": null,
      "outputs": []
    },
    {
      "cell_type": "code",
      "metadata": {
        "id": "BTBPRUvBAH7U"
      },
      "source": [
        "%%bash\n",
        "# Rscript -e \"library()\"\n",
        "Rscript -e \"search()\""
      ],
      "execution_count": null,
      "outputs": []
    },
    {
      "cell_type": "code",
      "metadata": {
        "id": "iZSnOq4PANQH"
      },
      "source": [
        "%%bash\n",
        "cd /content/drive/MyDrive\n",
        "Rscript test2.R  # irisなどをプロットする"
      ],
      "execution_count": 3,
      "outputs": []
    }
  ]
}